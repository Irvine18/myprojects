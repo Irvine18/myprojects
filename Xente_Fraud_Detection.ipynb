{
  "nbformat": 4,
  "nbformat_minor": 0,
  "metadata": {
    "colab": {
      "name": "Xente Fraud Detection.ipynb",
      "version": "0.3.2",
      "provenance": [],
      "include_colab_link": true
    },
    "kernelspec": {
      "name": "python3",
      "display_name": "Python 3"
    }
  },
  "cells": [
    {
      "cell_type": "markdown",
      "metadata": {
        "id": "view-in-github",
        "colab_type": "text"
      },
      "source": [
        "<a href=\"https://colab.research.google.com/github/Irvine18/myprojects/blob/master/Xente_Fraud_Detection.ipynb\" target=\"_parent\"><img src=\"https://colab.research.google.com/assets/colab-badge.svg\" alt=\"Open In Colab\"/></a>"
      ]
    },
    {
      "cell_type": "code",
      "metadata": {
        "id": "tWNKpI6VftO-",
        "colab_type": "code",
        "colab": {}
      },
      "source": [
        "import pandas as pd\n",
        "import numpy as np\n",
        "from matplotlib import pyplot as plt\n",
        "import seaborn as sns\n",
        "from sklearn.preprocessing import LabelEncoder\n",
        "from imblearn.over_sampling import SMOTE\n",
        "from sklearn.ensemble import RandomForestClassifier"
      ],
      "execution_count": 0,
      "outputs": []
    },
    {
      "cell_type": "code",
      "metadata": {
        "id": "cbV0AEQgnXFc",
        "colab_type": "code",
        "colab": {}
      },
      "source": [
        "train_df = pd.read_csv('training.csv')\n",
        "test_df = pd.read_csv('test (1).csv')"
      ],
      "execution_count": 0,
      "outputs": []
    },
    {
      "cell_type": "code",
      "metadata": {
        "id": "sFF-AQL-n0e3",
        "colab_type": "code",
        "colab": {
          "base_uri": "https://localhost:8080/",
          "height": 224
        },
        "outputId": "533f583f-0025-4b8f-e1b4-1b53c5d2a56e"
      },
      "source": [
        "train_df.head()"
      ],
      "execution_count": 12,
      "outputs": [
        {
          "output_type": "execute_result",
          "data": {
            "text/html": [
              "<div>\n",
              "<style scoped>\n",
              "    .dataframe tbody tr th:only-of-type {\n",
              "        vertical-align: middle;\n",
              "    }\n",
              "\n",
              "    .dataframe tbody tr th {\n",
              "        vertical-align: top;\n",
              "    }\n",
              "\n",
              "    .dataframe thead th {\n",
              "        text-align: right;\n",
              "    }\n",
              "</style>\n",
              "<table border=\"1\" class=\"dataframe\">\n",
              "  <thead>\n",
              "    <tr style=\"text-align: right;\">\n",
              "      <th></th>\n",
              "      <th>TransactionId</th>\n",
              "      <th>BatchId</th>\n",
              "      <th>AccountId</th>\n",
              "      <th>SubscriptionId</th>\n",
              "      <th>CustomerId</th>\n",
              "      <th>CurrencyCode</th>\n",
              "      <th>CountryCode</th>\n",
              "      <th>ProviderId</th>\n",
              "      <th>ProductId</th>\n",
              "      <th>ProductCategory</th>\n",
              "      <th>ChannelId</th>\n",
              "      <th>Amount</th>\n",
              "      <th>Value</th>\n",
              "      <th>TransactionStartTime</th>\n",
              "      <th>PricingStrategy</th>\n",
              "      <th>FraudResult</th>\n",
              "    </tr>\n",
              "  </thead>\n",
              "  <tbody>\n",
              "    <tr>\n",
              "      <th>0</th>\n",
              "      <td>TransactionId_76871</td>\n",
              "      <td>BatchId_36123</td>\n",
              "      <td>AccountId_3957</td>\n",
              "      <td>SubscriptionId_887</td>\n",
              "      <td>CustomerId_4406</td>\n",
              "      <td>UGX</td>\n",
              "      <td>256</td>\n",
              "      <td>ProviderId_6</td>\n",
              "      <td>ProductId_10</td>\n",
              "      <td>airtime</td>\n",
              "      <td>ChannelId_3</td>\n",
              "      <td>1000.0</td>\n",
              "      <td>1000</td>\n",
              "      <td>2018-11-15T02:18:49Z</td>\n",
              "      <td>2</td>\n",
              "      <td>0</td>\n",
              "    </tr>\n",
              "    <tr>\n",
              "      <th>1</th>\n",
              "      <td>TransactionId_73770</td>\n",
              "      <td>BatchId_15642</td>\n",
              "      <td>AccountId_4841</td>\n",
              "      <td>SubscriptionId_3829</td>\n",
              "      <td>CustomerId_4406</td>\n",
              "      <td>UGX</td>\n",
              "      <td>256</td>\n",
              "      <td>ProviderId_4</td>\n",
              "      <td>ProductId_6</td>\n",
              "      <td>financial_services</td>\n",
              "      <td>ChannelId_2</td>\n",
              "      <td>-20.0</td>\n",
              "      <td>20</td>\n",
              "      <td>2018-11-15T02:19:08Z</td>\n",
              "      <td>2</td>\n",
              "      <td>0</td>\n",
              "    </tr>\n",
              "    <tr>\n",
              "      <th>2</th>\n",
              "      <td>TransactionId_26203</td>\n",
              "      <td>BatchId_53941</td>\n",
              "      <td>AccountId_4229</td>\n",
              "      <td>SubscriptionId_222</td>\n",
              "      <td>CustomerId_4683</td>\n",
              "      <td>UGX</td>\n",
              "      <td>256</td>\n",
              "      <td>ProviderId_6</td>\n",
              "      <td>ProductId_1</td>\n",
              "      <td>airtime</td>\n",
              "      <td>ChannelId_3</td>\n",
              "      <td>500.0</td>\n",
              "      <td>500</td>\n",
              "      <td>2018-11-15T02:44:21Z</td>\n",
              "      <td>2</td>\n",
              "      <td>0</td>\n",
              "    </tr>\n",
              "    <tr>\n",
              "      <th>3</th>\n",
              "      <td>TransactionId_380</td>\n",
              "      <td>BatchId_102363</td>\n",
              "      <td>AccountId_648</td>\n",
              "      <td>SubscriptionId_2185</td>\n",
              "      <td>CustomerId_988</td>\n",
              "      <td>UGX</td>\n",
              "      <td>256</td>\n",
              "      <td>ProviderId_1</td>\n",
              "      <td>ProductId_21</td>\n",
              "      <td>utility_bill</td>\n",
              "      <td>ChannelId_3</td>\n",
              "      <td>20000.0</td>\n",
              "      <td>21800</td>\n",
              "      <td>2018-11-15T03:32:55Z</td>\n",
              "      <td>2</td>\n",
              "      <td>0</td>\n",
              "    </tr>\n",
              "    <tr>\n",
              "      <th>4</th>\n",
              "      <td>TransactionId_28195</td>\n",
              "      <td>BatchId_38780</td>\n",
              "      <td>AccountId_4841</td>\n",
              "      <td>SubscriptionId_3829</td>\n",
              "      <td>CustomerId_988</td>\n",
              "      <td>UGX</td>\n",
              "      <td>256</td>\n",
              "      <td>ProviderId_4</td>\n",
              "      <td>ProductId_6</td>\n",
              "      <td>financial_services</td>\n",
              "      <td>ChannelId_2</td>\n",
              "      <td>-644.0</td>\n",
              "      <td>644</td>\n",
              "      <td>2018-11-15T03:34:21Z</td>\n",
              "      <td>2</td>\n",
              "      <td>0</td>\n",
              "    </tr>\n",
              "  </tbody>\n",
              "</table>\n",
              "</div>"
            ],
            "text/plain": [
              "         TransactionId         BatchId  ... PricingStrategy FraudResult\n",
              "0  TransactionId_76871   BatchId_36123  ...               2           0\n",
              "1  TransactionId_73770   BatchId_15642  ...               2           0\n",
              "2  TransactionId_26203   BatchId_53941  ...               2           0\n",
              "3    TransactionId_380  BatchId_102363  ...               2           0\n",
              "4  TransactionId_28195   BatchId_38780  ...               2           0\n",
              "\n",
              "[5 rows x 16 columns]"
            ]
          },
          "metadata": {
            "tags": []
          },
          "execution_count": 12
        }
      ]
    },
    {
      "cell_type": "code",
      "metadata": {
        "id": "lbh8Hz46n_xL",
        "colab_type": "code",
        "colab": {
          "base_uri": "https://localhost:8080/",
          "height": 224
        },
        "outputId": "3d795cd5-1051-4ace-b95a-932d1367b7f1"
      },
      "source": [
        "test_df.head()"
      ],
      "execution_count": 8,
      "outputs": [
        {
          "output_type": "execute_result",
          "data": {
            "text/html": [
              "<div>\n",
              "<style scoped>\n",
              "    .dataframe tbody tr th:only-of-type {\n",
              "        vertical-align: middle;\n",
              "    }\n",
              "\n",
              "    .dataframe tbody tr th {\n",
              "        vertical-align: top;\n",
              "    }\n",
              "\n",
              "    .dataframe thead th {\n",
              "        text-align: right;\n",
              "    }\n",
              "</style>\n",
              "<table border=\"1\" class=\"dataframe\">\n",
              "  <thead>\n",
              "    <tr style=\"text-align: right;\">\n",
              "      <th></th>\n",
              "      <th>TransactionId</th>\n",
              "      <th>BatchId</th>\n",
              "      <th>AccountId</th>\n",
              "      <th>SubscriptionId</th>\n",
              "      <th>CustomerId</th>\n",
              "      <th>CurrencyCode</th>\n",
              "      <th>CountryCode</th>\n",
              "      <th>ProviderId</th>\n",
              "      <th>ProductId</th>\n",
              "      <th>ProductCategory</th>\n",
              "      <th>ChannelId</th>\n",
              "      <th>Amount</th>\n",
              "      <th>Value</th>\n",
              "      <th>TransactionStartTime</th>\n",
              "      <th>PricingStrategy</th>\n",
              "    </tr>\n",
              "  </thead>\n",
              "  <tbody>\n",
              "    <tr>\n",
              "      <th>0</th>\n",
              "      <td>TransactionId_50600</td>\n",
              "      <td>BatchId_35028</td>\n",
              "      <td>AccountId_2441</td>\n",
              "      <td>SubscriptionId_4426</td>\n",
              "      <td>CustomerId_2857</td>\n",
              "      <td>UGX</td>\n",
              "      <td>256</td>\n",
              "      <td>ProviderId_5</td>\n",
              "      <td>ProductId_3</td>\n",
              "      <td>airtime</td>\n",
              "      <td>ChannelId_3</td>\n",
              "      <td>1000.0</td>\n",
              "      <td>1000</td>\n",
              "      <td>2019-02-13T10:01:40Z</td>\n",
              "      <td>4</td>\n",
              "    </tr>\n",
              "    <tr>\n",
              "      <th>1</th>\n",
              "      <td>TransactionId_95109</td>\n",
              "      <td>BatchId_45139</td>\n",
              "      <td>AccountId_3439</td>\n",
              "      <td>SubscriptionId_2643</td>\n",
              "      <td>CustomerId_3874</td>\n",
              "      <td>UGX</td>\n",
              "      <td>256</td>\n",
              "      <td>ProviderId_5</td>\n",
              "      <td>ProductId_15</td>\n",
              "      <td>financial_services</td>\n",
              "      <td>ChannelId_3</td>\n",
              "      <td>2000.0</td>\n",
              "      <td>2000</td>\n",
              "      <td>2019-02-13T10:02:12Z</td>\n",
              "      <td>2</td>\n",
              "    </tr>\n",
              "    <tr>\n",
              "      <th>2</th>\n",
              "      <td>TransactionId_47357</td>\n",
              "      <td>BatchId_74887</td>\n",
              "      <td>AccountId_4841</td>\n",
              "      <td>SubscriptionId_3829</td>\n",
              "      <td>CustomerId_2857</td>\n",
              "      <td>UGX</td>\n",
              "      <td>256</td>\n",
              "      <td>ProviderId_4</td>\n",
              "      <td>ProductId_6</td>\n",
              "      <td>financial_services</td>\n",
              "      <td>ChannelId_2</td>\n",
              "      <td>-50.0</td>\n",
              "      <td>50</td>\n",
              "      <td>2019-02-13T10:02:30Z</td>\n",
              "      <td>2</td>\n",
              "    </tr>\n",
              "    <tr>\n",
              "      <th>3</th>\n",
              "      <td>TransactionId_28185</td>\n",
              "      <td>BatchId_11025</td>\n",
              "      <td>AccountId_2685</td>\n",
              "      <td>SubscriptionId_4626</td>\n",
              "      <td>CustomerId_3105</td>\n",
              "      <td>UGX</td>\n",
              "      <td>256</td>\n",
              "      <td>ProviderId_5</td>\n",
              "      <td>ProductId_10</td>\n",
              "      <td>airtime</td>\n",
              "      <td>ChannelId_3</td>\n",
              "      <td>3000.0</td>\n",
              "      <td>3000</td>\n",
              "      <td>2019-02-13T10:02:38Z</td>\n",
              "      <td>4</td>\n",
              "    </tr>\n",
              "    <tr>\n",
              "      <th>4</th>\n",
              "      <td>TransactionId_22140</td>\n",
              "      <td>BatchId_29804</td>\n",
              "      <td>AccountId_4841</td>\n",
              "      <td>SubscriptionId_3829</td>\n",
              "      <td>CustomerId_3105</td>\n",
              "      <td>UGX</td>\n",
              "      <td>256</td>\n",
              "      <td>ProviderId_4</td>\n",
              "      <td>ProductId_6</td>\n",
              "      <td>financial_services</td>\n",
              "      <td>ChannelId_2</td>\n",
              "      <td>-60.0</td>\n",
              "      <td>60</td>\n",
              "      <td>2019-02-13T10:02:58Z</td>\n",
              "      <td>2</td>\n",
              "    </tr>\n",
              "  </tbody>\n",
              "</table>\n",
              "</div>"
            ],
            "text/plain": [
              "         TransactionId        BatchId  ...  TransactionStartTime PricingStrategy\n",
              "0  TransactionId_50600  BatchId_35028  ...  2019-02-13T10:01:40Z               4\n",
              "1  TransactionId_95109  BatchId_45139  ...  2019-02-13T10:02:12Z               2\n",
              "2  TransactionId_47357  BatchId_74887  ...  2019-02-13T10:02:30Z               2\n",
              "3  TransactionId_28185  BatchId_11025  ...  2019-02-13T10:02:38Z               4\n",
              "4  TransactionId_22140  BatchId_29804  ...  2019-02-13T10:02:58Z               2\n",
              "\n",
              "[5 rows x 15 columns]"
            ]
          },
          "metadata": {
            "tags": []
          },
          "execution_count": 8
        }
      ]
    },
    {
      "cell_type": "code",
      "metadata": {
        "id": "zMkMkuRIoIoN",
        "colab_type": "code",
        "colab": {
          "base_uri": "https://localhost:8080/",
          "height": 545
        },
        "outputId": "ed3483a7-539f-4e61-da0d-de104c7ca03a"
      },
      "source": [
        "pd.read_csv('Xente_Variable_Definitions.csv')"
      ],
      "execution_count": 10,
      "outputs": [
        {
          "output_type": "execute_result",
          "data": {
            "text/html": [
              "<div>\n",
              "<style scoped>\n",
              "    .dataframe tbody tr th:only-of-type {\n",
              "        vertical-align: middle;\n",
              "    }\n",
              "\n",
              "    .dataframe tbody tr th {\n",
              "        vertical-align: top;\n",
              "    }\n",
              "\n",
              "    .dataframe thead th {\n",
              "        text-align: right;\n",
              "    }\n",
              "</style>\n",
              "<table border=\"1\" class=\"dataframe\">\n",
              "  <thead>\n",
              "    <tr style=\"text-align: right;\">\n",
              "      <th></th>\n",
              "      <th>Column Name</th>\n",
              "      <th>Definition</th>\n",
              "    </tr>\n",
              "  </thead>\n",
              "  <tbody>\n",
              "    <tr>\n",
              "      <th>0</th>\n",
              "      <td>TransactionId</td>\n",
              "      <td>Unique �transaction identifier on platform</td>\n",
              "    </tr>\n",
              "    <tr>\n",
              "      <th>1</th>\n",
              "      <td>BatchId</td>\n",
              "      <td>Unique number assigned to a batch of transacti...</td>\n",
              "    </tr>\n",
              "    <tr>\n",
              "      <th>2</th>\n",
              "      <td>AccountId</td>\n",
              "      <td>Unique number identifying the customer on plat...</td>\n",
              "    </tr>\n",
              "    <tr>\n",
              "      <th>3</th>\n",
              "      <td>SubscriptionId</td>\n",
              "      <td>Unique number identifying the customer subscri...</td>\n",
              "    </tr>\n",
              "    <tr>\n",
              "      <th>4</th>\n",
              "      <td>CustomerId</td>\n",
              "      <td>Unique identifier attached to Account</td>\n",
              "    </tr>\n",
              "    <tr>\n",
              "      <th>5</th>\n",
              "      <td>CurrencyCode</td>\n",
              "      <td>Country currency</td>\n",
              "    </tr>\n",
              "    <tr>\n",
              "      <th>6</th>\n",
              "      <td>CountryCode</td>\n",
              "      <td>Numerical geographical code of country</td>\n",
              "    </tr>\n",
              "    <tr>\n",
              "      <th>7</th>\n",
              "      <td>ProviderId</td>\n",
              "      <td>Source provider of Item �bought.</td>\n",
              "    </tr>\n",
              "    <tr>\n",
              "      <th>8</th>\n",
              "      <td>ProductId</td>\n",
              "      <td>Item name being bought.</td>\n",
              "    </tr>\n",
              "    <tr>\n",
              "      <th>9</th>\n",
              "      <td>ProductCategory</td>\n",
              "      <td>ProductIds are organized into these broader pr...</td>\n",
              "    </tr>\n",
              "    <tr>\n",
              "      <th>10</th>\n",
              "      <td>ChannelId</td>\n",
              "      <td>Identifies if customer used web,Android, IOS, ...</td>\n",
              "    </tr>\n",
              "    <tr>\n",
              "      <th>11</th>\n",
              "      <td>Amount</td>\n",
              "      <td>Value of the transaction. Positive for debits ...</td>\n",
              "    </tr>\n",
              "    <tr>\n",
              "      <th>12</th>\n",
              "      <td>Value</td>\n",
              "      <td>Absolute value of the amount</td>\n",
              "    </tr>\n",
              "    <tr>\n",
              "      <th>13</th>\n",
              "      <td>TransactionStartTime</td>\n",
              "      <td>Transaction start time</td>\n",
              "    </tr>\n",
              "    <tr>\n",
              "      <th>14</th>\n",
              "      <td>PricingStrategy</td>\n",
              "      <td>Category of Xente's pricing structure for merc...</td>\n",
              "    </tr>\n",
              "    <tr>\n",
              "      <th>15</th>\n",
              "      <td>FraudResult</td>\n",
              "      <td>Fraud status of transaction 1 -yes or 0-No</td>\n",
              "    </tr>\n",
              "  </tbody>\n",
              "</table>\n",
              "</div>"
            ],
            "text/plain": [
              "             Column Name                                         Definition\n",
              "0          TransactionId         Unique �transaction identifier on platform\n",
              "1                BatchId  Unique number assigned to a batch of transacti...\n",
              "2              AccountId  Unique number identifying the customer on plat...\n",
              "3         SubscriptionId  Unique number identifying the customer subscri...\n",
              "4             CustomerId              Unique identifier attached to Account\n",
              "5           CurrencyCode                                   Country currency\n",
              "6            CountryCode             Numerical geographical code of country\n",
              "7             ProviderId                   Source provider of Item �bought.\n",
              "8              ProductId                            Item name being bought.\n",
              "9        ProductCategory  ProductIds are organized into these broader pr...\n",
              "10             ChannelId  Identifies if customer used web,Android, IOS, ...\n",
              "11                Amount  Value of the transaction. Positive for debits ...\n",
              "12                 Value                       Absolute value of the amount\n",
              "13  TransactionStartTime                             Transaction start time\n",
              "14       PricingStrategy  Category of Xente's pricing structure for merc...\n",
              "15           FraudResult         Fraud status of transaction 1 -yes or 0-No"
            ]
          },
          "metadata": {
            "tags": []
          },
          "execution_count": 10
        }
      ]
    },
    {
      "cell_type": "code",
      "metadata": {
        "id": "yoq9miMipVZ2",
        "colab_type": "code",
        "colab": {
          "base_uri": "https://localhost:8080/",
          "height": 374
        },
        "outputId": "6a7e3166-c26e-40e3-ab6a-6b2842bc15f9"
      },
      "source": [
        "train_df.info()"
      ],
      "execution_count": 13,
      "outputs": [
        {
          "output_type": "stream",
          "text": [
            "<class 'pandas.core.frame.DataFrame'>\n",
            "RangeIndex: 95662 entries, 0 to 95661\n",
            "Data columns (total 16 columns):\n",
            "TransactionId           95662 non-null object\n",
            "BatchId                 95662 non-null object\n",
            "AccountId               95662 non-null object\n",
            "SubscriptionId          95662 non-null object\n",
            "CustomerId              95662 non-null object\n",
            "CurrencyCode            95662 non-null object\n",
            "CountryCode             95662 non-null int64\n",
            "ProviderId              95662 non-null object\n",
            "ProductId               95662 non-null object\n",
            "ProductCategory         95662 non-null object\n",
            "ChannelId               95662 non-null object\n",
            "Amount                  95662 non-null float64\n",
            "Value                   95662 non-null int64\n",
            "TransactionStartTime    95662 non-null object\n",
            "PricingStrategy         95662 non-null int64\n",
            "FraudResult             95662 non-null int64\n",
            "dtypes: float64(1), int64(4), object(11)\n",
            "memory usage: 11.7+ MB\n"
          ],
          "name": "stdout"
        }
      ]
    },
    {
      "cell_type": "code",
      "metadata": {
        "id": "Ii2Q8IhTpmXo",
        "colab_type": "code",
        "colab": {
          "base_uri": "https://localhost:8080/",
          "height": 357
        },
        "outputId": "6fbb75db-d96e-4790-96f4-1860364a990b"
      },
      "source": [
        "test_df.info()"
      ],
      "execution_count": 14,
      "outputs": [
        {
          "output_type": "stream",
          "text": [
            "<class 'pandas.core.frame.DataFrame'>\n",
            "RangeIndex: 45019 entries, 0 to 45018\n",
            "Data columns (total 15 columns):\n",
            "TransactionId           45019 non-null object\n",
            "BatchId                 45019 non-null object\n",
            "AccountId               45019 non-null object\n",
            "SubscriptionId          45019 non-null object\n",
            "CustomerId              45019 non-null object\n",
            "CurrencyCode            45019 non-null object\n",
            "CountryCode             45019 non-null int64\n",
            "ProviderId              45019 non-null object\n",
            "ProductId               45019 non-null object\n",
            "ProductCategory         45019 non-null object\n",
            "ChannelId               45019 non-null object\n",
            "Amount                  45019 non-null float64\n",
            "Value                   45019 non-null int64\n",
            "TransactionStartTime    45019 non-null object\n",
            "PricingStrategy         45019 non-null int64\n",
            "dtypes: float64(1), int64(3), object(11)\n",
            "memory usage: 5.2+ MB\n"
          ],
          "name": "stdout"
        }
      ]
    },
    {
      "cell_type": "code",
      "metadata": {
        "id": "g6FQlNNrptfG",
        "colab_type": "code",
        "colab": {
          "base_uri": "https://localhost:8080/",
          "height": 427
        },
        "outputId": "e6fe85f1-2769-4469-94d4-39df563e7342"
      },
      "source": [
        "print(\"Distribuition of Normal(0) and Frauds(1): \")\n",
        "print(train_df['FraudResult'].value_counts())\n",
        "\n",
        "plt.figure(figsize=(7,5))\n",
        "sns.countplot(train_df['FraudResult'])\n",
        "plt.title(\"Class Count\", fontsize=18)\n",
        "plt.xlabel(\"Is fraud?\", fontsize=15)\n",
        "plt.ylabel(\"Count\", fontsize=15)\n",
        "plt.show()"
      ],
      "execution_count": 20,
      "outputs": [
        {
          "output_type": "stream",
          "text": [
            "Distribuition of Normal(0) and Frauds(1): \n",
            "0    95469\n",
            "1      193\n",
            "Name: FraudResult, dtype: int64\n"
          ],
          "name": "stdout"
        },
        {
          "output_type": "display_data",
          "data": {
            "image/png": "[encoded data removed]",
            "text/plain": [
              "<Figure size 504x360 with 1 Axes>"
            ]
          },
          "metadata": {
            "tags": []
          }
        }
      ]
    },
    {
      "cell_type": "code",
      "metadata": {
        "id": "w0xBX_iV0uPs",
        "colab_type": "code",
        "colab": {
          "base_uri": "https://localhost:8080/",
          "height": 34
        },
        "outputId": "d9a3d7d2-8e85-4451-860e-c89c0eac7a88"
      },
      "source": [
        "ntrain = train_df.shape[0]\n",
        "ntest = test_df.shape[0]\n",
        "\n",
        "# Concatenate train and test dataframes\n",
        "all_data = pd.concat((train_df, test_df), sort=False).reset_index(drop=True)\n",
        "\n",
        "print(\"all_data size is : {}\".format(all_data.shape))"
      ],
      "execution_count": 30,
      "outputs": [
        {
          "output_type": "stream",
          "text": [
            "all_data size is : (140681, 16)\n"
          ],
          "name": "stdout"
        }
      ]
    },
    {
      "cell_type": "code",
      "metadata": {
        "id": "tnPsTMqR1dJK",
        "colab_type": "code",
        "colab": {
          "base_uri": "https://localhost:8080/",
          "height": 374
        },
        "outputId": "a5e3b386-cd87-423f-8e69-d5a165d159d8"
      },
      "source": [
        "df_fraud = train_df[train_df['FraudResult'] == 1]\n",
        "df_normal = train_df[train_df['FraudResult'] == 0]\n",
        "\n",
        "print(\"Fraud transaction statistics\")\n",
        "print(df_fraud[\"Amount\"].describe())\n",
        "print(\"\\nNormal transaction statistics\")\n",
        "print(df_normal[\"Amount\"].describe())"
      ],
      "execution_count": 24,
      "outputs": [
        {
          "output_type": "stream",
          "text": [
            "Fraud transaction statistics\n",
            "count    1.930000e+02\n",
            "mean     1.535272e+06\n",
            "std      2.100525e+06\n",
            "min     -9.000000e+05\n",
            "25%      5.000000e+05\n",
            "50%      6.000000e+05\n",
            "75%      2.000000e+06\n",
            "max      9.880000e+06\n",
            "Name: Amount, dtype: float64\n",
            "\n",
            "Normal transaction statistics\n",
            "count    9.546900e+04\n",
            "mean     3.627723e+03\n",
            "std      4.035711e+04\n",
            "min     -1.000000e+06\n",
            "25%     -5.000000e+01\n",
            "50%      1.000000e+03\n",
            "75%      2.500000e+03\n",
            "max      2.400000e+06\n",
            "Name: Amount, dtype: float64\n"
          ],
          "name": "stdout"
        }
      ]
    },
    {
      "cell_type": "code",
      "metadata": {
        "id": "Ra0FY7YV9TsW",
        "colab_type": "code",
        "colab": {
          "base_uri": "https://localhost:8080/",
          "height": 224
        },
        "outputId": "34fe93ce-815a-4e8d-854f-f70b8821406d"
      },
      "source": [
        "all_data.head()"
      ],
      "execution_count": 33,
      "outputs": [
        {
          "output_type": "execute_result",
          "data": {
            "text/html": [
              "<div>\n",
              "<style scoped>\n",
              "    .dataframe tbody tr th:only-of-type {\n",
              "        vertical-align: middle;\n",
              "    }\n",
              "\n",
              "    .dataframe tbody tr th {\n",
              "        vertical-align: top;\n",
              "    }\n",
              "\n",
              "    .dataframe thead th {\n",
              "        text-align: right;\n",
              "    }\n",
              "</style>\n",
              "<table border=\"1\" class=\"dataframe\">\n",
              "  <thead>\n",
              "    <tr style=\"text-align: right;\">\n",
              "      <th></th>\n",
              "      <th>TransactionId</th>\n",
              "      <th>BatchId</th>\n",
              "      <th>AccountId</th>\n",
              "      <th>SubscriptionId</th>\n",
              "      <th>CustomerId</th>\n",
              "      <th>CurrencyCode</th>\n",
              "      <th>CountryCode</th>\n",
              "      <th>ProviderId</th>\n",
              "      <th>ProductId</th>\n",
              "      <th>ProductCategory</th>\n",
              "      <th>ChannelId</th>\n",
              "      <th>Amount</th>\n",
              "      <th>Value</th>\n",
              "      <th>TransactionStartTime</th>\n",
              "      <th>PricingStrategy</th>\n",
              "      <th>FraudResult</th>\n",
              "    </tr>\n",
              "  </thead>\n",
              "  <tbody>\n",
              "    <tr>\n",
              "      <th>0</th>\n",
              "      <td>TransactionId_76871</td>\n",
              "      <td>BatchId_36123</td>\n",
              "      <td>AccountId_3957</td>\n",
              "      <td>SubscriptionId_887</td>\n",
              "      <td>CustomerId_4406</td>\n",
              "      <td>UGX</td>\n",
              "      <td>256</td>\n",
              "      <td>ProviderId_6</td>\n",
              "      <td>ProductId_10</td>\n",
              "      <td>airtime</td>\n",
              "      <td>ChannelId_3</td>\n",
              "      <td>1000.0</td>\n",
              "      <td>1000</td>\n",
              "      <td>2018-11-15T02:18:49Z</td>\n",
              "      <td>2</td>\n",
              "      <td>0.0</td>\n",
              "    </tr>\n",
              "    <tr>\n",
              "      <th>1</th>\n",
              "      <td>TransactionId_73770</td>\n",
              "      <td>BatchId_15642</td>\n",
              "      <td>AccountId_4841</td>\n",
              "      <td>SubscriptionId_3829</td>\n",
              "      <td>CustomerId_4406</td>\n",
              "      <td>UGX</td>\n",
              "      <td>256</td>\n",
              "      <td>ProviderId_4</td>\n",
              "      <td>ProductId_6</td>\n",
              "      <td>financial_services</td>\n",
              "      <td>ChannelId_2</td>\n",
              "      <td>-20.0</td>\n",
              "      <td>20</td>\n",
              "      <td>2018-11-15T02:19:08Z</td>\n",
              "      <td>2</td>\n",
              "      <td>0.0</td>\n",
              "    </tr>\n",
              "    <tr>\n",
              "      <th>2</th>\n",
              "      <td>TransactionId_26203</td>\n",
              "      <td>BatchId_53941</td>\n",
              "      <td>AccountId_4229</td>\n",
              "      <td>SubscriptionId_222</td>\n",
              "      <td>CustomerId_4683</td>\n",
              "      <td>UGX</td>\n",
              "      <td>256</td>\n",
              "      <td>ProviderId_6</td>\n",
              "      <td>ProductId_1</td>\n",
              "      <td>airtime</td>\n",
              "      <td>ChannelId_3</td>\n",
              "      <td>500.0</td>\n",
              "      <td>500</td>\n",
              "      <td>2018-11-15T02:44:21Z</td>\n",
              "      <td>2</td>\n",
              "      <td>0.0</td>\n",
              "    </tr>\n",
              "    <tr>\n",
              "      <th>3</th>\n",
              "      <td>TransactionId_380</td>\n",
              "      <td>BatchId_102363</td>\n",
              "      <td>AccountId_648</td>\n",
              "      <td>SubscriptionId_2185</td>\n",
              "      <td>CustomerId_988</td>\n",
              "      <td>UGX</td>\n",
              "      <td>256</td>\n",
              "      <td>ProviderId_1</td>\n",
              "      <td>ProductId_21</td>\n",
              "      <td>utility_bill</td>\n",
              "      <td>ChannelId_3</td>\n",
              "      <td>20000.0</td>\n",
              "      <td>21800</td>\n",
              "      <td>2018-11-15T03:32:55Z</td>\n",
              "      <td>2</td>\n",
              "      <td>0.0</td>\n",
              "    </tr>\n",
              "    <tr>\n",
              "      <th>4</th>\n",
              "      <td>TransactionId_28195</td>\n",
              "      <td>BatchId_38780</td>\n",
              "      <td>AccountId_4841</td>\n",
              "      <td>SubscriptionId_3829</td>\n",
              "      <td>CustomerId_988</td>\n",
              "      <td>UGX</td>\n",
              "      <td>256</td>\n",
              "      <td>ProviderId_4</td>\n",
              "      <td>ProductId_6</td>\n",
              "      <td>financial_services</td>\n",
              "      <td>ChannelId_2</td>\n",
              "      <td>-644.0</td>\n",
              "      <td>644</td>\n",
              "      <td>2018-11-15T03:34:21Z</td>\n",
              "      <td>2</td>\n",
              "      <td>0.0</td>\n",
              "    </tr>\n",
              "  </tbody>\n",
              "</table>\n",
              "</div>"
            ],
            "text/plain": [
              "         TransactionId         BatchId  ... PricingStrategy FraudResult\n",
              "0  TransactionId_76871   BatchId_36123  ...               2         0.0\n",
              "1  TransactionId_73770   BatchId_15642  ...               2         0.0\n",
              "2  TransactionId_26203   BatchId_53941  ...               2         0.0\n",
              "3    TransactionId_380  BatchId_102363  ...               2         0.0\n",
              "4  TransactionId_28195   BatchId_38780  ...               2         0.0\n",
              "\n",
              "[5 rows x 16 columns]"
            ]
          },
          "metadata": {
            "tags": []
          },
          "execution_count": 33
        }
      ]
    },
    {
      "cell_type": "code",
      "metadata": {
        "id": "M_WHI0coAWTZ",
        "colab_type": "code",
        "colab": {}
      },
      "source": [
        "enc = LabelEncoder()\n",
        "all_data['ProductCategory'] = enc.fit_transform(all_data['ProductCategory'])"
      ],
      "execution_count": 0,
      "outputs": []
    },
    {
      "cell_type": "code",
      "metadata": {
        "id": "Vh1SeouFCAmL",
        "colab_type": "code",
        "colab": {}
      },
      "source": [
        "all_data['CurrencyCode'] = enc.fit_transform(all_data['CurrencyCode'])"
      ],
      "execution_count": 0,
      "outputs": []
    },
    {
      "cell_type": "code",
      "metadata": {
        "id": "4TizT6h2CQnh",
        "colab_type": "code",
        "colab": {
          "base_uri": "https://localhost:8080/",
          "height": 34
        },
        "outputId": "fd445ec6-1dc0-42e8-ef4e-901c2a7b4130"
      },
      "source": [
        "all_data['CurrencyCode'].unique()"
      ],
      "execution_count": 48,
      "outputs": [
        {
          "output_type": "execute_result",
          "data": {
            "text/plain": [
              "array([0])"
            ]
          },
          "metadata": {
            "tags": []
          },
          "execution_count": 48
        }
      ]
    },
    {
      "cell_type": "code",
      "metadata": {
        "id": "5s1dDcnyI7fq",
        "colab_type": "code",
        "colab": {
          "base_uri": "https://localhost:8080/",
          "height": 68
        },
        "outputId": "46f61815-ac9c-4d3d-a9f9-05dd9d695bb8"
      },
      "source": [
        "train = all_data[:ntrain]\n",
        "test = all_data[ntrain:]\n",
        "print(train.shape)\n",
        "print(test.shape)\n",
        "print(train_df.shape)"
      ],
      "execution_count": 50,
      "outputs": [
        {
          "output_type": "stream",
          "text": [
            "(95662, 16)\n",
            "(45019, 16)\n",
            "(95662, 16)\n"
          ],
          "name": "stdout"
        }
      ]
    },
    {
      "cell_type": "code",
      "metadata": {
        "id": "4M67LjrUKRei",
        "colab_type": "code",
        "colab": {}
      },
      "source": [
        "X_train = train[['Amount', 'PricingStrategy', 'ProductCategory']]\n",
        "y_train = train['FraudResult']\n",
        "X_test = test[['Amount', 'PricingStrategy', 'ProductCategory']]"
      ],
      "execution_count": 0,
      "outputs": []
    },
    {
      "cell_type": "code",
      "metadata": {
        "id": "yfYRWFPM2aI0",
        "colab_type": "code",
        "colab": {
          "base_uri": "https://localhost:8080/",
          "height": 153
        },
        "outputId": "6d929070-917a-4c57-dda0-28a6d2e49737"
      },
      "source": [
        "print(\"Before OverSampling, counts of label '1': {}\".format(sum(y_train==1)))\n",
        "print(\"Before OverSampling, counts of label '0': {} \\n\".format(sum(y_train==0)))\n",
        "\n",
        "sm = SMOTE(random_state=2)\n",
        "X_train_res, y_train_res = sm.fit_sample(X_train, y_train.ravel())\n",
        "\n",
        "print('After OverSampling, the shape of train_X: {}'.format(X_train_res.shape))\n",
        "print('After OverSampling, the shape of train_y: {} \\n'.format(y_train_res.shape))\n",
        "\n",
        "print(\"After OverSampling, counts of label '1': {}\".format(sum(y_train_res==1)))\n",
        "print(\"After OverSampling, counts of label '0': {}\".format(sum(y_train_res==0)))\n"
      ],
      "execution_count": 52,
      "outputs": [
        {
          "output_type": "stream",
          "text": [
            "Before OverSampling, counts of label '1': 193\n",
            "Before OverSampling, counts of label '0': 95469 \n",
            "\n",
            "After OverSampling, the shape of train_X: (190938, 3)\n",
            "After OverSampling, the shape of train_y: (190938,) \n",
            "\n",
            "After OverSampling, counts of label '1': 95469\n",
            "After OverSampling, counts of label '0': 95469\n"
          ],
          "name": "stdout"
        }
      ]
    },
    {
      "cell_type": "code",
      "metadata": {
        "id": "x-0xnKvyMPP0",
        "colab_type": "code",
        "colab": {
          "base_uri": "https://localhost:8080/",
          "height": 136
        },
        "outputId": "47031873-4fe9-4409-f07f-b28fcb935fa8"
      },
      "source": [
        "rf = RandomForestClassifier(n_estimators=100)\n",
        "rf.fit(X_train, y_train)"
      ],
      "execution_count": 56,
      "outputs": [
        {
          "output_type": "execute_result",
          "data": {
            "text/plain": [
              "RandomForestClassifier(bootstrap=True, class_weight=None, criterion='gini',\n",
              "                       max_depth=None, max_features='auto', max_leaf_nodes=None,\n",
              "                       min_impurity_decrease=0.0, min_impurity_split=None,\n",
              "                       min_samples_leaf=1, min_samples_split=2,\n",
              "                       min_weight_fraction_leaf=0.0, n_estimators=100,\n",
              "                       n_jobs=None, oob_score=False, random_state=None,\n",
              "                       verbose=0, warm_start=False)"
            ]
          },
          "metadata": {
            "tags": []
          },
          "execution_count": 56
        }
      ]
    },
    {
      "cell_type": "code",
      "metadata": {
        "id": "P_eWEdxwM3F1",
        "colab_type": "code",
        "colab": {}
      },
      "source": [
        "y_pred = rf.predict(X_test)"
      ],
      "execution_count": 0,
      "outputs": []
    },
    {
      "cell_type": "code",
      "metadata": {
        "id": "WzLFviP1NT5x",
        "colab_type": "code",
        "colab": {}
      },
      "source": [
        "my_submission = pd.DataFrame({'TransactionId':test_df.TransactionId, 'FraudResult':y_pred})\n",
        "\n",
        "my_submission.to_csv('mysubmission.csv', index=False)"
      ],
      "execution_count": 0,
      "outputs": []
    }
  ]
}